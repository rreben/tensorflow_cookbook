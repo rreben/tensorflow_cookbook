{
 "cells": [
  {
   "cell_type": "markdown",
   "metadata": {},
   "source": [
    "# Experiments for TwitterMole\n",
    "\n",
    "In order to install missing modules log in to the vagrant guest machine with `vagrant ssh` and then use \n",
    "* `sudo -i pip install` twitter to install the twitter module\n",
    "* then use `sudo -i pip install PyPDF2`\n",
    "* and `sudo -i pip install PyCrypto`\n",
    "* and `sudo -i pip install docopt`"
   ]
  },
  {
   "cell_type": "code",
   "execution_count": null,
   "metadata": {
    "collapsed": false
   },
   "outputs": [],
   "source": [
    "import twitter\n",
    "import os, sys\n",
    "\n",
    "# this is from http://stackoverflow.com/questions/279237/import-a-module-from-a-relative-path\n",
    "# More complex path ../../../lib\n",
    "# with\n",
    "# lib_path = os.path.abspath(os.path.join('..', '..', '..', 'lib'))\n",
    "lib_path = os.path.abspath(os.path.join('..'))\n",
    "sys.path.append(lib_path)\n",
    "\n",
    "import encryption_tool\n",
    "import twitter_robot"
   ]
  },
  {
   "cell_type": "code",
   "execution_count": null,
   "metadata": {
    "collapsed": false
   },
   "outputs": [],
   "source": [
    "password = raw_input('enter your password here: ')\n",
    "\n",
    "credentials = encryption_tool.decrypt_credentials(\n",
    "    encryption_tool.read_credentials_from_file(encrypted_file = \"../credentials.json\"), password)\n",
    "\n",
    "twitter_api_handler = twitter_robot.initialize_twitter(credentials)\n"
   ]
  },
  {
   "cell_type": "code",
   "execution_count": null,
   "metadata": {
    "collapsed": false
   },
   "outputs": [],
   "source": [
    "prospects_list = twitter_api_handler.lists.members(slug=u'robbitobbi-in', owner_screen_name='r_rbn', count=4000)\n",
    "prospects = prospects_list[u'users']\n",
    "\n",
    "prospect = prospects[0]\n",
    "\n",
    "relationship = twitter_api_handler.friendships.show(\n",
    "    source_screen_name='r_rbn', \n",
    "    target_screen_name=prospect[u'screen_name'])\n",
    "\n",
    "relationships = []\n",
    "\n",
    "for prospect in prospects:\n",
    "    relationships.append(twitter_api_handler.friendships.show(\n",
    "        source_screen_name='r_rbn', \n",
    "        target_screen_name=prospect[u'screen_name']))\n",
    "    \n",
    "relationships"
   ]
  },
  {
   "cell_type": "code",
   "execution_count": null,
   "metadata": {
    "collapsed": false
   },
   "outputs": [],
   "source": [
    "relationships\n"
   ]
  },
  {
   "cell_type": "code",
   "execution_count": null,
   "metadata": {
    "collapsed": false
   },
   "outputs": [],
   "source": [
    "for relationship in relationships:\n",
    "    print (relationship[u'relationship'][u'target'][u'screen_name'], \n",
    "           relationship[u'relationship'][u'target'][u'following'])"
   ]
  },
  {
   "cell_type": "code",
   "execution_count": null,
   "metadata": {
    "collapsed": true
   },
   "outputs": [],
   "source": []
  }
 ],
 "metadata": {
  "kernelspec": {
   "display_name": "Python 2",
   "language": "python",
   "name": "python2"
  },
  "language_info": {
   "codemirror_mode": {
    "name": "ipython",
    "version": 2
   },
   "file_extension": ".py",
   "mimetype": "text/x-python",
   "name": "python",
   "nbconvert_exporter": "python",
   "pygments_lexer": "ipython2",
   "version": "2.7.10"
  }
 },
 "nbformat": 4,
 "nbformat_minor": 0
}
