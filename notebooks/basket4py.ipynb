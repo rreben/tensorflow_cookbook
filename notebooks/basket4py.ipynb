{
 "cells": [
  {
   "cell_type": "markdown",
   "metadata": {},
   "source": [
    "# basket4py\n",
    "\n",
    "Congratulations! If you can see this, you managed to install everything you need to start coding. Place the cursor in the cell (\"hello world\") beneath and press the \"play\" button on top of this web page (look at the following image).\n",
    "\n",
    "![Press this button to execute your code](ressources/Lessons/images/ButtonToExecute.png)"
   ]
  },
  {
   "cell_type": "code",
   "execution_count": null,
   "metadata": {
    "collapsed": false
   },
   "outputs": [],
   "source": [
    "print \" hello world! \" * 8"
   ]
  },
  {
   "cell_type": "markdown",
   "metadata": {},
   "source": [
    "Now let us do some symbolic computer algebra:"
   ]
  },
  {
   "cell_type": "code",
   "execution_count": null,
   "metadata": {
    "collapsed": false
   },
   "outputs": [],
   "source": [
    "import sympy\n",
    "from sympy import I, pi\n",
    "\n",
    "n1=sympy.Symbol(\"n\")\n",
    "n2=sympy.Symbol(\"n\",integer=True)\n",
    "n3=sympy.Symbol(\"n\",odd=True)\n",
    "\n",
    "sympy.cos(n2*pi)"
   ]
  },
  {
   "cell_type": "markdown",
   "metadata": {},
   "source": [
    "Now we use sympy to calculate with fractions"
   ]
  },
  {
   "cell_type": "code",
   "execution_count": null,
   "metadata": {
    "collapsed": false
   },
   "outputs": [],
   "source": [
    "r1=sympy.Rational(11,13)\n",
    "r2=sympy.Rational(5,26)\n",
    "\n",
    "print(r1*r2)\n",
    "print(r1/r2)\n",
    "print(r1+r2)"
   ]
  },
  {
   "cell_type": "markdown",
   "metadata": {},
   "source": [
    "Now we use sympy to work with terms"
   ]
  },
  {
   "cell_type": "code",
   "execution_count": null,
   "metadata": {
    "collapsed": false
   },
   "outputs": [],
   "source": [
    "x=sympy.Symbol(\"x\")\n",
    "expr=2*(x**2-x)-x*(x+1)\n",
    "expr"
   ]
  },
  {
   "cell_type": "code",
   "execution_count": null,
   "metadata": {
    "collapsed": false
   },
   "outputs": [],
   "source": [
    "expr.simplify()"
   ]
  },
  {
   "cell_type": "markdown",
   "metadata": {},
   "source": [
    "We use matplotlib to visualize some functions"
   ]
  },
  {
   "cell_type": "code",
   "execution_count": null,
   "metadata": {
    "collapsed": false
   },
   "outputs": [],
   "source": [
    "%matplotlib inline\n",
    "import matplotlib as mpl\n",
    "#c.IPKernelApp.pyplot = u'inline'\n",
    "import matplotlib.pyplot as plt\n",
    "#from mpl_toolkits.mplot3d.axes3d import Axes3D\n",
    "import numpy as np\n",
    "import sympy \n",
    "x=np.linspace(-5,2,100)\n",
    "y1=x**3 + 5*x**2 + 10\n",
    "y2=10*x**2 + 10*x\n",
    "y3=6*x + 10\n",
    "fig, ax = plt.subplots()\n",
    "ax.plot(x,y1, color='blue', label=\"y(x)\")\n",
    "ax.plot(x,y2, color='red', label=\"y'(x)\")\n",
    "ax.plot(x,y3, color='green', label=\"y''(x)\")\n",
    "ax.legend()"
   ]
  },
  {
   "cell_type": "code",
   "execution_count": null,
   "metadata": {
    "collapsed": true
   },
   "outputs": [],
   "source": []
  }
 ],
 "metadata": {
  "kernelspec": {
   "display_name": "Python 2",
   "language": "python",
   "name": "python2"
  },
  "language_info": {
   "codemirror_mode": {
    "name": "ipython",
    "version": 2
   },
   "file_extension": ".py",
   "mimetype": "text/x-python",
   "name": "python",
   "nbconvert_exporter": "python",
   "pygments_lexer": "ipython2",
   "version": "2.7.10"
  }
 },
 "nbformat": 4,
 "nbformat_minor": 0
}
